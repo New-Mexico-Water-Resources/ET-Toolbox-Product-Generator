{
 "cells": [
  {
   "cell_type": "code",
   "execution_count": 2,
   "metadata": {},
   "outputs": [],
   "source": [
    "from GEOS5FP import GEOS5FP\n",
    "from sentinel import sentinel_tile_grid"
   ]
  },
  {
   "cell_type": "code",
   "execution_count": 3,
   "metadata": {},
   "outputs": [
    {
     "name": "stdout",
     "output_type": "stream",
     "text": [
      "[2022-12-10 10:42:31 INFO] GEOS-5 FP working directory: \u001b[34m/Users/halverso/data/GEOS5FP_testing\u001b[0m\n",
      "[2022-12-10 10:42:31 INFO] GEOS-5 FP download directory: \u001b[34m/Users/halverso/data/GEOS5FP_testing/GEOS5FP_download_directory\u001b[0m\n",
      "[2022-12-10 10:42:31 INFO] GEOS-5 FP products directory: \u001b[34m/Users/halverso/data/GEOS5FP_testing/GEOS5FP_products\u001b[0m\n"
     ]
    },
    {
     "data": {
      "text/plain": [
       "{\n",
       "  \"URL\": \"https://portal.nccs.nasa.gov/datashare/gmao/geos-fp/das\",\n",
       "  \"download_directory\": \"/Users/halverso/data/GEOS5FP_testing/GEOS5FP_download_directory\",\n",
       "  \"products_directory\": \"/Users/halverso/data/GEOS5FP_testing/GEOS5FP_products\"\n",
       "}"
      ]
     },
     "execution_count": 3,
     "metadata": {},
     "output_type": "execute_result"
    }
   ],
   "source": [
    "geos5fp = GEOS5FP(working_directory=\"~/data/GEOS5FP_testing\")\n",
    "geos5fp"
   ]
  },
  {
   "cell_type": "code",
   "execution_count": 4,
   "metadata": {},
   "outputs": [
    {
     "name": "stdout",
     "output_type": "stream",
     "text": [
      "[2022-12-10 10:42:41 INFO] checking URL: \u001b[34mhttps://portal.nccs.nasa.gov/datashare/gmao/geos-fp/das\u001b[0m\n"
     ]
    },
    {
     "ename": "OSError",
     "evalue": "status: 403 URL: https://portal.nccs.nasa.gov/datashare/gmao/geos-fp/das",
     "output_type": "error",
     "traceback": [
      "\u001b[0;31m---------------------------------------------------------------------------\u001b[0m",
      "\u001b[0;31mOSError\u001b[0m                                   Traceback (most recent call last)",
      "\u001b[1;32m/Users/halverso/Projects/ET-Toolbox-Product-Generator/GEOS-5 FP Debugging.ipynb Cell 3\u001b[0m in \u001b[0;36m<cell line: 1>\u001b[0;34m()\u001b[0m\n\u001b[0;32m----> <a href='vscode-notebook-cell:/Users/halverso/Projects/ET-Toolbox-Product-Generator/GEOS-5%20FP%20Debugging.ipynb#W2sZmlsZQ%3D%3D?line=0'>1</a>\u001b[0m geos5fp\u001b[39m.\u001b[39;49m_check_remote()\n",
      "File \u001b[0;32m~/Projects/ET-Toolbox-Product-Generator/GEOS5FP/GEOS5FP.py:325\u001b[0m, in \u001b[0;36mGEOS5FP._check_remote\u001b[0;34m(self)\u001b[0m\n\u001b[1;32m    322\u001b[0m     logger\u001b[39m.\u001b[39minfo(\u001b[39mf\u001b[39m\u001b[39m\"\u001b[39m\u001b[39mremote verified with status \u001b[39m\u001b[39m{\u001b[39;00mcl\u001b[39m.\u001b[39mval(\u001b[39m200\u001b[39m)\u001b[39m}\u001b[39;00m\u001b[39m in \u001b[39m\u001b[39m\"\u001b[39m \u001b[39m+\u001b[39m cl\u001b[39m.\u001b[39mtime(\n\u001b[1;32m    323\u001b[0m         \u001b[39mf\u001b[39m\u001b[39m\"\u001b[39m\u001b[39m{\u001b[39;00mduration\u001b[39m:\u001b[39;00m\u001b[39m0.2f\u001b[39m\u001b[39m}\u001b[39;00m\u001b[39m\"\u001b[39m) \u001b[39m+\u001b[39m \u001b[39m\"\u001b[39m\u001b[39m seconds: \u001b[39m\u001b[39m{\u001b[39m\u001b[39mcl.URL(self.remote)}\u001b[39m\u001b[39m\"\u001b[39m)\n\u001b[1;32m    324\u001b[0m \u001b[39melse\u001b[39;00m:\n\u001b[0;32m--> 325\u001b[0m     \u001b[39mraise\u001b[39;00m \u001b[39mIOError\u001b[39;00m(\u001b[39mf\u001b[39m\u001b[39m\"\u001b[39m\u001b[39mstatus: \u001b[39m\u001b[39m{\u001b[39;00mstatus\u001b[39m}\u001b[39;00m\u001b[39m URL: \u001b[39m\u001b[39m{\u001b[39;00m\u001b[39mself\u001b[39m\u001b[39m.\u001b[39mremote\u001b[39m}\u001b[39;00m\u001b[39m\"\u001b[39m)\n",
      "\u001b[0;31mOSError\u001b[0m: status: 403 URL: https://portal.nccs.nasa.gov/datashare/gmao/geos-fp/das"
     ]
    }
   ],
   "source": [
    "geos5fp._check_remote()"
   ]
  },
  {
   "cell_type": "code",
   "execution_count": null,
   "metadata": {},
   "outputs": [],
   "source": []
  }
 ],
 "metadata": {
  "kernelspec": {
   "display_name": "ETtoolbox",
   "language": "python",
   "name": "python3"
  },
  "language_info": {
   "codemirror_mode": {
    "name": "ipython",
    "version": 3
   },
   "file_extension": ".py",
   "mimetype": "text/x-python",
   "name": "python",
   "nbconvert_exporter": "python",
   "pygments_lexer": "ipython3",
   "version": "3.9.13 | packaged by conda-forge | (main, May 27 2022, 17:00:52) \n[Clang 13.0.1 ]"
  },
  "orig_nbformat": 4,
  "vscode": {
   "interpreter": {
    "hash": "c57e9915f9d33f8cb1eb8c633abec643673b7382bc35d4a2eacb9ff6b82e508a"
   }
  }
 },
 "nbformat": 4,
 "nbformat_minor": 2
}
